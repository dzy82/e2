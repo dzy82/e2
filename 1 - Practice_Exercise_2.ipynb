{
 "cells": [
  {
   "cell_type": "markdown",
   "metadata": {},
   "source": [
    "1. Ask user to enter a string and check that it is made up only alphabets:"
   ]
  },
  {
   "cell_type": "code",
   "execution_count": 6,
   "metadata": {},
   "outputs": [
    {
     "name": "stdout",
     "output_type": "stream",
     "text": [
      "xsx\n",
      "The string contains only alphabets.\n"
     ]
    }
   ],
   "source": [
    "# Ask the user to enter a string\n",
    "user_input = input(\"Please enter a string: \")\n",
    "print(user_input)\n",
    "# Check if the string contains only alphabets\n",
    "if user_input.isalpha():\n",
    "    print(\"The string contains only alphabets.\")\n",
    "else:\n",
    "    print(\"The string contains non-alphabetic characters.\")"
   ]
  },
  {
   "cell_type": "markdown",
   "metadata": {},
   "source": [
    "2. Now, make sure that the string is made up of both alphabets and numbers:\n",
    "\n",
    "TRY using isalnum() function and then entering only alhpabets in the string and see what happens."
   ]
  },
  {
   "cell_type": "code",
   "execution_count": 5,
   "metadata": {},
   "outputs": [
    {
     "name": "stdout",
     "output_type": "stream",
     "text": [
      "Your username is valid\n"
     ]
    }
   ],
   "source": [
    "input_word = input(\"Enter your username:\")\n",
    "\n",
    "alpha_flag = False\n",
    "num_flag = False\n",
    "alnum_flag = False\n",
    "\n",
    "for x in input_word:\n",
    "    if x.isalpha:\n",
    "        alpha_flag = True\n",
    "    if x.isdigit:\n",
    "        num_flag = True\n",
    "    else:\n",
    "        alnum_flag = True\n",
    "        break\n",
    "if not (alpha_flag and num_flag and input_word.isalnum()):\n",
    "    print(\"Invalid username\")\n",
    "else:\n",
    "    print(\"Your username is valid\")\n"
   ]
  },
  {
   "cell_type": "markdown",
   "metadata": {},
   "source": [
    "3. Now, make sure that the string is made up of both alphabets and at least one number:\n"
   ]
  },
  {
   "cell_type": "code",
   "execution_count": 4,
   "metadata": {},
   "outputs": [
    {
     "name": "stdout",
     "output_type": "stream",
     "text": [
      "Your username is valid\n"
     ]
    }
   ],
   "source": [
    "input_word = input(\"Enter your username:\")\n",
    "\n",
    "alpha_flag = False\n",
    "num_flag = False\n",
    "alnum_flag = True\n",
    "\n",
    "for x in input_word:\n",
    "    if x.isalpha():\n",
    "        alpha_flag = True\n",
    "    elif x.isdigit():\n",
    "        num_flag= True\n",
    "    else:\n",
    "        alnum_flag = False\n",
    "        break\n",
    "if not (alpha_flag and num_flag and alnum_flag):\n",
    "    print(\"Invalid username\")\n",
    "else:\n",
    "    print(\"Your username is valid\")"
   ]
  },
  {
   "cell_type": "markdown",
   "metadata": {},
   "source": [
    "4. Now, make sure that the string is made up of both alphabets, at least one number, and at least one special character:"
   ]
  },
  {
   "cell_type": "code",
   "execution_count": 3,
   "metadata": {},
   "outputs": [
    {
     "name": "stdout",
     "output_type": "stream",
     "text": [
      "Your username is valid\n"
     ]
    }
   ],
   "source": [
    "input_word = input(\"Enter your username:\")\n",
    "\n",
    "alpha_flag = False\n",
    "num_flag = False\n",
    "special_flag = False\n",
    "\n",
    "for x in input_word:\n",
    "    if x.isalpha():\n",
    "        alpha_flag = True\n",
    "    elif x.isdigit():\n",
    "        num_flag= True\n",
    "    else:\n",
    "       special_flag = True\n",
    "       break\n",
    "\n",
    "if not (alpha_flag and num_flag and special_flag):\n",
    "    print(\"Invalid username\")\n",
    "else:\n",
    "    print(\"Your username is valid\")"
   ]
  },
  {
   "cell_type": "markdown",
   "metadata": {},
   "source": [
    "5. Now, modify the above code so that if the user enters an invalid string, the program should ask the user to enter another string again, and keep asking until a valid string has been entered."
   ]
  },
  {
   "cell_type": "code",
   "execution_count": 1,
   "metadata": {},
   "outputs": [
    {
     "name": "stdout",
     "output_type": "stream",
     "text": [
      "Invalid username. Please try again.\n",
      "Your username is valid\n"
     ]
    }
   ],
   "source": [
    "while True:\n",
    "    input_word = input(\"Enter your username:\")\n",
    "\n",
    "    alpha_flag = False\n",
    "    num_flag = False\n",
    "    special_flag = False\n",
    "\n",
    "    for x in input_word:\n",
    "        if x.isalpha():\n",
    "            alpha_flag = True\n",
    "        elif x.isdigit():\n",
    "            num_flag = True\n",
    "        else:\n",
    "            special_flag = True\n",
    "            break\n",
    "\n",
    "    if alpha_flag and num_flag and special_flag:\n",
    "        print(\"Your username is valid\")\n",
    "        break  # Input is valid, exit loop\n",
    "    else:\n",
    "        print(\"Invalid username. Please try again.\")"
   ]
  }
 ],
 "metadata": {
  "kernelspec": {
   "display_name": "Python 3",
   "language": "python",
   "name": "python3"
  },
  "language_info": {
   "codemirror_mode": {
    "name": "ipython",
    "version": 3
   },
   "file_extension": ".py",
   "mimetype": "text/x-python",
   "name": "python",
   "nbconvert_exporter": "python",
   "pygments_lexer": "ipython3",
   "version": "3.8.10"
  }
 },
 "nbformat": 4,
 "nbformat_minor": 2
}
